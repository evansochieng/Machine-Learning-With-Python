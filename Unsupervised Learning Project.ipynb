{
 "cells": [
  {
   "cell_type": "markdown",
   "id": "32c39e09",
   "metadata": {},
   "source": [
    "# Project: Choosing the \"right\" $k$\n",
    "There are two widely used methods to get a good value for $k$.\n",
    "- The elbow method\n",
    "- The silhouette coefficient"
   ]
  },
  {
   "cell_type": "markdown",
   "id": "f0d169ad",
   "metadata": {},
   "source": [
    "## 1. The elbow method\n",
    "- Make a chart over different $k$ values\n",
    "- If the line chart resembles an arm, then the “elbow” is a good indication of a best fit at that point"
   ]
  },
  {
   "cell_type": "code",
   "execution_count": 1,
   "id": "d3163d1a",
   "metadata": {},
   "outputs": [],
   "source": [
    "#import libraries\n",
    "import pandas as pd\n",
    "import numpy as np\n",
    "from sklearn.cluster import KMeans\n",
    "import matplotlib.pyplot as plt\n",
    "%matplotlib inline"
   ]
  },
  {
   "cell_type": "code",
   "execution_count": 4,
   "id": "129a50e2",
   "metadata": {},
   "outputs": [],
   "source": [
    "#Generate data\n",
    "\n",
    "#Generate some random numbers\n",
    "data = np.random.randn(400, 2)\n",
    "\n",
    "#Do some grouping to the data by shifting the data\n",
    "data[:100] += 5, 5\n",
    "data[100:200] += 10, 10\n",
    "data[200:300] += 10, 5\n",
    "data[300:] += 5, 10"
   ]
  },
  {
   "cell_type": "code",
   "execution_count": 5,
   "id": "b7908d84",
   "metadata": {},
   "outputs": [
    {
     "name": "stderr",
     "output_type": "stream",
     "text": [
      "C:\\Users\\HP\\anaconda3\\lib\\site-packages\\sklearn\\cluster\\_kmeans.py:1039: UserWarning: KMeans is known to have a memory leak on Windows with MKL, when there are less chunks than available threads. You can avoid it by setting the environment variable OMP_NUM_THREADS=2.\n",
      "  warnings.warn(\n"
     ]
    }
   ],
   "source": [
    "#Create models with different k values\n",
    "\n",
    "sse = [] #create an empty list that will store the sum of squared errors per model\n",
    "\n",
    "for k in range(1, 11):\n",
    "    model = KMeans(n_clusters=k)\n",
    "    model.fit(data)\n",
    "    sse.append(model.inertia_)"
   ]
  },
  {
   "cell_type": "code",
   "execution_count": 14,
   "id": "563e0f5f",
   "metadata": {},
   "outputs": [
    {
     "data": {
      "text/plain": [
       "[<matplotlib.lines.Line2D at 0x19614509070>]"
      ]
     },
     "execution_count": 14,
     "metadata": {},
     "output_type": "execute_result"
    },
    {
     "data": {
      "image/png": "[encoded data removed]",
      "text/plain": [
       "<Figure size 432x288 with 1 Axes>"
      ]
     },
     "metadata": {
      "needs_background": "light"
     },
     "output_type": "display_data"
    }
   ],
   "source": [
    "#Create a plot of the models' sse over the different k values\n",
    "fig, ax = plt.subplots()\n",
    "\n",
    "ax.plot(range(1, 11), sse)"
   ]
  },
  {
   "cell_type": "code",
   "execution_count": null,
   "id": "b1009c5f",
   "metadata": {},
   "outputs": [],
   "source": [
    "## The plot forms an arm and the elbow is at k = 4\n",
    "## Therefore k = 4 is the best values for the number of clusters"
   ]
  },
  {
   "cell_type": "code",
   "execution_count": null,
   "id": "fd38265c",
   "metadata": {},
   "outputs": [],
   "source": []
  },
  {
   "cell_type": "markdown",
   "id": "fd4f1a09",
   "metadata": {},
   "source": [
    "## 2. The silhouette coefficient\n",
    "- a measure of cluster cohesion and separation. \n",
    "- It quantifies how well a data point fits into its assigned cluster based on two factors:\n",
    "\n",
    "\n",
    "- How close the data point is to other points in the cluster\n",
    "- How far away the data point is from points in other clusters"
   ]
  },
  {
   "cell_type": "code",
   "execution_count": 9,
   "id": "fee7270b",
   "metadata": {},
   "outputs": [],
   "source": [
    "#import libraries\n",
    "from sklearn.metrics import silhouette_score"
   ]
  },
  {
   "cell_type": "code",
   "execution_count": 10,
   "id": "723d5ffc",
   "metadata": {},
   "outputs": [],
   "source": [
    "#Calculate Silouette Coefficients\n",
    "#Iterate over different values of k\n",
    "\n",
    "silouette_coefficients = []\n",
    "\n",
    "for k in range(2, 11):\n",
    "    model = KMeans(n_clusters=k)\n",
    "    model.fit(data)\n",
    "    silouette_coefficients.append(silhouette_score(data, model.labels_))"
   ]
  },
  {
   "cell_type": "code",
   "execution_count": 15,
   "id": "fbedfada",
   "metadata": {},
   "outputs": [
    {
     "data": {
      "text/plain": [
       "[<matplotlib.lines.Line2D at 0x19614fa4070>]"
      ]
     },
     "execution_count": 15,
     "metadata": {},
     "output_type": "execute_result"
    },
    {
     "data": {
      "image/png": "[encoded data removed]",
      "text/plain": [
       "<Figure size 432x288 with 1 Axes>"
      ]
     },
     "metadata": {
      "needs_background": "light"
     },
     "output_type": "display_data"
    }
   ],
   "source": [
    "#plot the results\n",
    "\n",
    "fig, ax = plt.subplots()\n",
    "\n",
    "ax.plot(range(2, 11), silouette_coefficients)"
   ]
  },
  {
   "cell_type": "code",
   "execution_count": null,
   "id": "a624066c",
   "metadata": {},
   "outputs": [],
   "source": [
    "#The best value of k corresponds to the most positive value of silouette coefficient.\n",
    "#The best value of k is 4"
   ]
  }
 ],
 "metadata": {
  "kernelspec": {
   "display_name": "Python 3 (ipykernel)",
   "language": "python",
   "name": "python3"
  },
  "language_info": {
   "codemirror_mode": {
    "name": "ipython",
    "version": 3
   },
   "file_extension": ".py",
   "mimetype": "text/x-python",
   "name": "python",
   "nbconvert_exporter": "python",
   "pygments_lexer": "ipython3",
   "version": "3.8.12"
  }
 },
 "nbformat": 4,
 "nbformat_minor": 5
}
